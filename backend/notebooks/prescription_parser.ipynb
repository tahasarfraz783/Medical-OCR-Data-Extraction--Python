{
 "cells": [
  {
   "cell_type": "code",
   "execution_count": 13,
   "id": "ba23de77-0801-4396-8187-7808befb41b0",
   "metadata": {},
   "outputs": [],
   "source": [
    "from pdf2image import convert_from_path\n",
    "import pytesseract\n",
    "import numpy as np\n",
    "import cv2\n",
    "from PIL import Image\n",
    "import re"
   ]
  },
  {
   "cell_type": "code",
   "execution_count": 14,
   "id": "de4854db-314d-4643-87b3-876977e85682",
   "metadata": {},
   "outputs": [],
   "source": [
    "def preprocess_image(img):\n",
    "    \n",
    "    grayscaled_img = cv2.cvtColor(np.array(img), cv2.COLOR_BGR2GRAY)\n",
    "    \n",
    "    resized_img = cv2.resize(grayscaled_img, None, fx=1.5, fy =1.5, interpolation=cv2.INTER_LINEAR)\n",
    "    \n",
    "    processsed_img = cv2.adaptiveThreshold(\n",
    "    resized_img, 255, \n",
    "    cv2.ADAPTIVE_THRESH_GAUSSIAN_C, cv2.THRESH_BINARY,\n",
    "    61, 20)\n",
    "\n",
    "    \n",
    "    return processsed_img"
   ]
  },
  {
   "cell_type": "code",
   "execution_count": 15,
   "id": "b4410ed5-e4f9-4dad-bb6e-c15125f1b713",
   "metadata": {},
   "outputs": [],
   "source": [
    "pdf_path = r'C:\\Games\\Data Stuff\\Courses\\Python Course\\backend\\documents\\prescription\\pre_1.pdf'\n",
    "poppler_path = r'C:\\poppler-24.02.0\\Library\\bin'\n",
    "\n",
    "converted_pages = convert_from_path(pdf_path, poppler_path=poppler_path)"
   ]
  },
  {
   "cell_type": "code",
   "execution_count": 16,
   "id": "2b3657ac-140a-4661-89c1-b1e725aafa50",
   "metadata": {},
   "outputs": [],
   "source": [
    "processed_img = preprocess_image(converted_pages[0])"
   ]
  },
  {
   "cell_type": "code",
   "execution_count": 19,
   "id": "5d977725-9e3b-4804-9057-044a74fdbd04",
   "metadata": {},
   "outputs": [],
   "source": [
    "Image.fromarray(processed_img).show()"
   ]
  },
  {
   "cell_type": "code",
   "execution_count": 5,
   "id": "1765ad77-0aab-46b2-ab67-763fab37b14b",
   "metadata": {},
   "outputs": [],
   "source": [
    "pytesseract.pytesseract.tesseract_cmd = r'C:\\Program Files\\Tesseract-OCR\\tesseract.exe'\n",
    "string_img = pytesseract.image_to_string(processed_img, lang='eng')"
   ]
  },
  {
   "cell_type": "code",
   "execution_count": 6,
   "id": "7a25dffe-cadd-4ba8-9fb5-4a63b0327711",
   "metadata": {
    "scrolled": true
   },
   "outputs": [
    {
     "name": "stdout",
     "output_type": "stream",
     "text": [
      "Dr John Smith, M.D\n",
      "2 Non-Important Street,\n",
      "New York. Phone (000)-111-2222\n",
      "\n",
      "Name: Marta Sharapova Date: 5/11/2022\n",
      "\n",
      "Address: 9 tennis court, new Russia, DC\n",
      "\n",
      "Prednisone 20 mg\n",
      "Lialda 2.4 gram\n",
      "\n",
      "Directions:\n",
      "Prednisone, Taper 5 mg every 3 days,\n",
      "\n",
      "Finish in 2.5 weeks\n",
      "Ltalda - take 2 pill everyday for 1 month\n",
      "\n",
      "Refill: 2. times\n",
      "\n"
     ]
    }
   ],
   "source": [
    "print(string_img)"
   ]
  },
  {
   "cell_type": "code",
   "execution_count": 7,
   "id": "cd58b19e-e0e9-40dd-b199-e2b4d40eb08b",
   "metadata": {},
   "outputs": [
    {
     "name": "stdout",
     "output_type": "stream",
     "text": [
      "Marta Sharapova\n"
     ]
    }
   ],
   "source": [
    "pattern = r\"Name:(.*) Date:\"\n",
    "match = re.findall(pattern, string_img)\n",
    "print(match[0].strip())"
   ]
  },
  {
   "cell_type": "code",
   "execution_count": 8,
   "id": "b6057e24-33ac-460e-a60a-c39fee33b2ad",
   "metadata": {},
   "outputs": [
    {
     "name": "stdout",
     "output_type": "stream",
     "text": [
      "9 tennis court, new Russia, DC\n"
     ]
    }
   ],
   "source": [
    "pattern = r\"Address:(.*)\\n\"\n",
    "match = re.findall(pattern, string_img)\n",
    "print(match[0].strip())"
   ]
  },
  {
   "cell_type": "code",
   "execution_count": 9,
   "id": "901506d6-7fc3-4e74-92aa-e90fb8b7543f",
   "metadata": {},
   "outputs": [
    {
     "name": "stdout",
     "output_type": "stream",
     "text": [
      "Prednisone 20 mg\n",
      "Lialda 2.4 gram\n"
     ]
    }
   ],
   "source": [
    "pattern = r\"Address:[^\\n]*(.*)Directions:\"\n",
    "match = re.findall(pattern, string_img, flags = re.DOTALL)\n",
    "print(match[0].strip())"
   ]
  },
  {
   "cell_type": "code",
   "execution_count": 10,
   "id": "2ef5beb9-63a2-4cc0-a684-a0b14b097f21",
   "metadata": {},
   "outputs": [
    {
     "name": "stdout",
     "output_type": "stream",
     "text": [
      "Prednisone, Taper 5 mg every 3 days,\n",
      "\n",
      "Finish in 2.5 weeks\n",
      "Ltalda - take 2 pill everyday for 1 month\n"
     ]
    }
   ],
   "source": [
    "pattern = r\"Directions:(.*)Refill:\"\n",
    "match = re.findall(pattern, string_img, flags = re.DOTALL)\n",
    "print(match[0].strip())"
   ]
  },
  {
   "cell_type": "code",
   "execution_count": 11,
   "id": "bcc3e063-dfd3-47a1-b7ba-fd2fedceb2b5",
   "metadata": {},
   "outputs": [
    {
     "name": "stdout",
     "output_type": "stream",
     "text": [
      "2\n"
     ]
    }
   ],
   "source": [
    "pattern = r\"Refill:(.*). times\"\n",
    "match = re.findall(pattern, string_img, flags = re.DOTALL)\n",
    "print(match[0].strip())"
   ]
  },
  {
   "cell_type": "code",
   "execution_count": null,
   "id": "b961dc7c-9fdc-4da7-8e1f-9b196312619e",
   "metadata": {},
   "outputs": [],
   "source": []
  },
  {
   "cell_type": "code",
   "execution_count": null,
   "id": "184fb61b-7f98-4db7-859e-ef10edffd387",
   "metadata": {},
   "outputs": [],
   "source": []
  }
 ],
 "metadata": {
  "kernelspec": {
   "display_name": "Python 3 (ipykernel)",
   "language": "python",
   "name": "python3"
  },
  "language_info": {
   "codemirror_mode": {
    "name": "ipython",
    "version": 3
   },
   "file_extension": ".py",
   "mimetype": "text/x-python",
   "name": "python",
   "nbconvert_exporter": "python",
   "pygments_lexer": "ipython3",
   "version": "3.12.0"
  }
 },
 "nbformat": 4,
 "nbformat_minor": 5
}

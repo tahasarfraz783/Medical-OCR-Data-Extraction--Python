{
 "cells": [
  {
   "cell_type": "code",
   "execution_count": 1,
   "id": "6fc54673-4912-466c-9afd-e7a13b45a14a",
   "metadata": {},
   "outputs": [],
   "source": [
    "from pdf2image import convert_from_path\n",
    "import pytesseract\n",
    "import numpy as np\n",
    "import cv2\n",
    "from PIL import Image\n",
    "import re"
   ]
  },
  {
   "cell_type": "code",
   "execution_count": 2,
   "id": "bd545ec6-f097-45d4-9091-eb121f78dcc0",
   "metadata": {},
   "outputs": [],
   "source": [
    "def preprocess_image(img):\n",
    "    \n",
    "    grayscaled_img = cv2.cvtColor(np.array(img), cv2.COLOR_BGR2GRAY)\n",
    "    \n",
    "    resized_img = cv2.resize(grayscaled_img, None, fx=1.5, fy =1.5, interpolation=cv2.INTER_LINEAR)\n",
    "    \n",
    "    processsed_img = cv2.adaptiveThreshold(\n",
    "    resized_img, 255, \n",
    "    cv2.ADAPTIVE_THRESH_GAUSSIAN_C, cv2.THRESH_BINARY,\n",
    "    61, 20)\n",
    "\n",
    "    \n",
    "    return processsed_img"
   ]
  },
  {
   "cell_type": "code",
   "execution_count": 3,
   "id": "fcc33a55-d7f7-484e-86df-ad29e0e72323",
   "metadata": {},
   "outputs": [],
   "source": [
    "pdf_path = r'C:\\Games\\Data Stuff\\Courses\\Python Course\\backend\\documents\\patient_details\\pd_1.pdf'\n",
    "poppler_path = r'C:\\poppler-24.02.0\\Library\\bin'\n",
    "\n",
    "converted_pages = convert_from_path(pdf_path, poppler_path=poppler_path)"
   ]
  },
  {
   "cell_type": "code",
   "execution_count": 4,
   "id": "7167e790-66c4-4c46-8120-92857b3e56f2",
   "metadata": {},
   "outputs": [],
   "source": [
    "for i in range(len(converted_pages)):\n",
    "    converted_pages[i] = preprocess_image(converted_pages[i])"
   ]
  },
  {
   "cell_type": "code",
   "execution_count": 167,
   "id": "e3b9788b-45e5-4907-bc95-c444d3eb894b",
   "metadata": {},
   "outputs": [],
   "source": [
    "Image.fromarray(converted_pages[0]).show()"
   ]
  },
  {
   "cell_type": "code",
   "execution_count": 5,
   "id": "eaa06117-6277-405e-8671-664c9051acab",
   "metadata": {},
   "outputs": [],
   "source": [
    "pytesseract.pytesseract.tesseract_cmd = r'C:\\Program Files\\Tesseract-OCR\\tesseract.exe'\n",
    "string_doc = ''\n",
    "for i in range(len(converted_pages)):\n",
    "    string_img = pytesseract.image_to_string(converted_pages[i], lang='eng')\n",
    "    string_doc += string_img"
   ]
  },
  {
   "cell_type": "code",
   "execution_count": 6,
   "id": "977cb6ed-da5f-4367-8008-9f7e250127c0",
   "metadata": {
    "scrolled": true
   },
   "outputs": [
    {
     "name": "stdout",
     "output_type": "stream",
     "text": [
      "17112/2020\n",
      "\n",
      "Patient Medical Record\n",
      "\n",
      "Patient Information Birth Date\n",
      "Kathy Crawford May 6 1972\n",
      "(737) 988-0851 Weight\n",
      "9264 Ash Dr 95\n",
      "New York City, 10005\n",
      "United States Height:\n",
      "190\n",
      "In Casc of Emergency\n",
      "ce a  E ee\n",
      "Simeone Crawford 9266 Ash Dr\n",
      "New York City, New York, 10005\n",
      "\n",
      "Home phone United States\n",
      "\n",
      "(990) 375-4621\n",
      "Work phone\n",
      "\n",
      "Genera! Medical History\n",
      "\n",
      "cree ete amegras mater\n",
      "\n",
      "ee\n",
      "\n",
      "Chicken Pox (Varicella): Meacies:\n",
      "\n",
      "IMMUNE IMMUNE\n",
      "\n",
      "Have you had the Hepatitis B vaccination?\n",
      "\n",
      "No\n",
      "List any Medical Problems (asthma, seizures, headaches):\n",
      "Migraine\n",
      "E: Name of Insurance Company: a )\n",
      "\n",
      "f Random Insuarance Company - 4789 Bollinger Rd\n",
      "\n",
      "aa Policy Number: Jersey City, New Jersey, 07030\n",
      "\n",
      "71 1520731 3 Expiry Date:\n",
      "30 December 2020\n",
      "\n",
      "Do you have medical insurance?\n",
      "\n",
      "Yes.\n",
      "\n",
      "Medical Insurance Details\n",
      "\n",
      "List any allergies:\n",
      "\n",
      "Peanuts\n",
      "\n",
      "List any medication taken regularly:\n",
      "Triptans\n",
      "\n"
     ]
    }
   ],
   "source": [
    "print(string_doc)"
   ]
  },
  {
   "cell_type": "code",
   "execution_count": 177,
   "id": "89e6383a-f515-4e89-92a0-be89a0a01db0",
   "metadata": {},
   "outputs": [
    {
     "name": "stdout",
     "output_type": "stream",
     "text": [
      "Jerry Lucas\n"
     ]
    }
   ],
   "source": [
    "pattern = r\"Birth Date(.*?)\\w+ \\d \\d{4}\"\n",
    "match = re.findall(pattern, string_doc, flags = re.DOTALL)\n",
    "print(match[0].strip())"
   ]
  },
  {
   "cell_type": "code",
   "execution_count": 178,
   "id": "51231227-e6d7-4b45-bd69-6a74d6c18c2b",
   "metadata": {},
   "outputs": [
    {
     "name": "stdout",
     "output_type": "stream",
     "text": [
      "(279) 920-8204\n"
     ]
    }
   ],
   "source": [
    "pattern = r\"(\\(\\d{3}\\) \\d{3}-\\d{4}) Weight\"\n",
    "match = re.findall(pattern, string_doc, flags = re.DOTALL)\n",
    "print(match[0].strip())"
   ]
  },
  {
   "cell_type": "code",
   "execution_count": 179,
   "id": "590bdd50-3c75-4e61-b926-d4d556e8630d",
   "metadata": {},
   "outputs": [
    {
     "name": "stdout",
     "output_type": "stream",
     "text": [
      "IMMUNE\n"
     ]
    }
   ],
   "source": [
    "pattern = r\"(IMMUNE |NOT IMMUNE )\\w+\"\n",
    "match = re.findall(pattern, string_doc, flags = re.DOTALL)\n",
    "print(match[0].strip())"
   ]
  },
  {
   "cell_type": "code",
   "execution_count": 180,
   "id": "84dfabf3-5c42-4b3c-83d7-01df9b809e69",
   "metadata": {},
   "outputs": [
    {
     "name": "stdout",
     "output_type": "stream",
     "text": [
      "NOT IMMUNE\n"
     ]
    }
   ],
   "source": [
    "pattern = r\"IMMUNE (NOT IMMUNE|IMMUNE)\"\n",
    "match = re.findall(pattern, string_doc, flags = re.DOTALL)\n",
    "print(match[0].strip())"
   ]
  },
  {
   "cell_type": "code",
   "execution_count": 181,
   "id": "2d392617-b26b-4b86-ae10-efe82bde7a9b",
   "metadata": {},
   "outputs": [
    {
     "name": "stdout",
     "output_type": "stream",
     "text": [
      "Yes\n"
     ]
    }
   ],
   "source": [
    "pattern = r\"insurance\\?\\n.*?(\\S+)\"\n",
    "match = re.findall(pattern, string_doc, flags = re.DOTALL)\n",
    "print(match[0].strip())"
   ]
  },
  {
   "cell_type": "code",
   "execution_count": 182,
   "id": "e4787484-fec6-4a43-8020-b73ead347370",
   "metadata": {},
   "outputs": [
    {
     "name": "stdout",
     "output_type": "stream",
     "text": [
      "N/A\n"
     ]
    }
   ],
   "source": [
    "pattern = r\"allergies:\\n.*?(\\S+)\"\n",
    "match = re.findall(pattern, string_doc, flags = re.DOTALL)\n",
    "print(match[0].strip())"
   ]
  },
  {
   "cell_type": "code",
   "execution_count": 183,
   "id": "c4e3d767-b09e-4b46-a464-b9f23d8ad1d1",
   "metadata": {},
   "outputs": [
    {
     "name": "stdout",
     "output_type": "stream",
     "text": [
      "N/A\n"
     ]
    }
   ],
   "source": [
    "pattern = r\"regularly:\\n(.*)\"\n",
    "match = re.findall(pattern, string_doc, flags = re.DOTALL)\n",
    "print(match[0].strip())"
   ]
  }
 ],
 "metadata": {
  "kernelspec": {
   "display_name": "Python 3 (ipykernel)",
   "language": "python",
   "name": "python3"
  },
  "language_info": {
   "codemirror_mode": {
    "name": "ipython",
    "version": 3
   },
   "file_extension": ".py",
   "mimetype": "text/x-python",
   "name": "python",
   "nbconvert_exporter": "python",
   "pygments_lexer": "ipython3",
   "version": "3.12.0"
  }
 },
 "nbformat": 4,
 "nbformat_minor": 5
}

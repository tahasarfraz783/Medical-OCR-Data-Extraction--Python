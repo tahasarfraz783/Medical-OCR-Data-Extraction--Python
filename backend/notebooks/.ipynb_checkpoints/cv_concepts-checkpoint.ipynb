{
 "cells": [
  {
   "cell_type": "code",
   "execution_count": 4,
   "id": "ce861772-c423-47ae-afa8-62991eee34ce",
   "metadata": {},
   "outputs": [],
   "source": [
    "import cv2\n",
    "from PIL import Image"
   ]
  },
  {
   "cell_type": "code",
   "execution_count": 5,
   "id": "cc5688ed-4b3d-4ee1-b587-51c2a112d629",
   "metadata": {},
   "outputs": [],
   "source": [
    "img = cv2.imread(\"dark_image.jpg\", flags=cv2.IMREAD_GRAYSCALE)"
   ]
  },
  {
   "cell_type": "code",
   "execution_count": 6,
   "id": "93e6ba59-d5ef-4a63-838d-d2ff4041b4cc",
   "metadata": {},
   "outputs": [
    {
     "data": {
      "text/plain": [
       "array([[206, 206, 206, ..., 187, 186, 184],\n",
       "       [206, 206, 206, ..., 186, 185, 185],\n",
       "       [206, 206, 206, ..., 186, 185, 185],\n",
       "       ...,\n",
       "       [162, 157, 152, ..., 184, 184, 184],\n",
       "       [160, 156, 152, ..., 184, 184, 184],\n",
       "       [156, 158, 158, ..., 184, 184, 184]], dtype=uint8)"
      ]
     },
     "execution_count": 6,
     "metadata": {},
     "output_type": "execute_result"
    }
   ],
   "source": [
    "img"
   ]
  },
  {
   "cell_type": "code",
   "execution_count": 7,
   "id": "99c118eb-82a5-42c9-a06e-8eab7cd7024b",
   "metadata": {},
   "outputs": [],
   "source": [
    "retval, new_img = cv2.threshold(img, 100,255,cv2.THRESH_BINARY)\n",
    "Image.fromarray(new_img).show()"
   ]
  },
  {
   "cell_type": "code",
   "execution_count": 9,
   "id": "d31c1308-15f3-49e7-9482-bdb50bb89271",
   "metadata": {},
   "outputs": [],
   "source": [
    "new_img = cv2.adaptiveThreshold(\n",
    "    img, 255, \n",
    "    cv2.ADAPTIVE_THRESH_GAUSSIAN_C,\n",
    "    cv2.THRESH_BINARY,\n",
    "    61,\n",
    "    20)\n",
    "\n",
    "Image.fromarray(new_img).show()"
   ]
  },
  {
   "cell_type": "code",
   "execution_count": null,
   "id": "ad140f5f-4609-44b5-9abb-fe7ce67489f8",
   "metadata": {},
   "outputs": [],
   "source": []
  }
 ],
 "metadata": {
  "kernelspec": {
   "display_name": "Python 3 (ipykernel)",
   "language": "python",
   "name": "python3"
  },
  "language_info": {
   "codemirror_mode": {
    "name": "ipython",
    "version": 3
   },
   "file_extension": ".py",
   "mimetype": "text/x-python",
   "name": "python",
   "nbconvert_exporter": "python",
   "pygments_lexer": "ipython3",
   "version": "3.12.0"
  }
 },
 "nbformat": 4,
 "nbformat_minor": 5
}
